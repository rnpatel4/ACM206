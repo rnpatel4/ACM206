{
 "cells": [
  {
   "cell_type": "markdown",
   "id": "d62345fb-a1f2-4e48-9907-18aaa141ad27",
   "metadata": {},
   "source": [
    "# Problem Set 3"
   ]
  },
  {
   "cell_type": "code",
   "execution_count": 27,
   "id": "e2d7e247-268a-4037-93e3-e9d60853972e",
   "metadata": {},
   "outputs": [],
   "source": [
    "import numpy as np\n",
    "import matplotlib.pyplot as plt\n"
   ]
  },
  {
   "cell_type": "markdown",
   "id": "17dfcb37-7660-4170-8589-3c1aa5e3a829",
   "metadata": {
    "tags": []
   },
   "source": [
    "## Lemmings problem\n",
    "Use a CTMC to model lemmings climbing up and falling down a ladder. A lemming at level i climbs up with rate 1 for i=0,1,...,9 and falls to the ground with rate 1 for i=1,2,...,9. What is the expected time to reach the top starting from the ground"
   ]
  },
  {
   "cell_type": "code",
   "execution_count": 40,
   "id": "fc63a077-a421-4424-8cb1-ac948964d1a0",
   "metadata": {},
   "outputs": [],
   "source": [
    "# Rate Matrix Q\n",
    "a = np.ones(10)\n",
    "diagele = np.ones(11)*-2\n",
    "\n",
    "Q = np.zeros(11) + np.diag(a, k=1) + np.diag(diagele)\n",
    "Q[0,0] = -1\n",
    "Q[10, :] = 0\n",
    "Q[1:, 0] = 1\n",
    "\n",
    "# Q = np.array([\n",
    "#     [-1, 1, 0, 0, 0, 0, 0, 0, 0, 0],\n",
    "#     [1, -2, 1, 0, 0, 0, 0, 0, 0, 0],\n",
    "#     [1, 0, -2, 1, 0, 0, 0, 0, 0, 0],\n",
    "#     [1, 0, 0, -2, 1, 0, 0, 0, 0, 0], \n",
    "#     [1, 0, 0, 0, -2, 1, 0, 0, 0, 0], \n",
    "#     [1, 0, 0, 0, 0, -2, 1, 0, 0, 0],\n",
    "#     [1, 0, 0, 0, 0, 0, 0, 0, 0, 0], ], dtype='float64')\n"
   ]
  },
  {
   "cell_type": "code",
   "execution_count": 41,
   "id": "4a51f098-fc06-4a58-8da4-2f3258cb1bfc",
   "metadata": {},
   "outputs": [
    {
     "data": {
      "text/plain": [
       "array([[-0.5,  0.5,  0. ,  0. ,  0. ,  0. ,  0. ,  0. ,  0. ,  0. ,  0. ],\n",
       "       [ 0.5, -1. ,  0.5,  0. ,  0. ,  0. ,  0. ,  0. ,  0. ,  0. ,  0. ],\n",
       "       [ 0.5,  0. , -1. ,  0.5,  0. ,  0. ,  0. ,  0. ,  0. ,  0. ,  0. ],\n",
       "       [ 0.5,  0. ,  0. , -1. ,  0.5,  0. ,  0. ,  0. ,  0. ,  0. ,  0. ],\n",
       "       [ 0.5,  0. ,  0. ,  0. , -1. ,  0.5,  0. ,  0. ,  0. ,  0. ,  0. ],\n",
       "       [ 0.5,  0. ,  0. ,  0. ,  0. , -1. ,  0.5,  0. ,  0. ,  0. ,  0. ],\n",
       "       [ 0.5,  0. ,  0. ,  0. ,  0. ,  0. , -1. ,  0.5,  0. ,  0. ,  0. ],\n",
       "       [ 0.5,  0. ,  0. ,  0. ,  0. ,  0. ,  0. , -1. ,  0.5,  0. ,  0. ],\n",
       "       [ 0.5,  0. ,  0. ,  0. ,  0. ,  0. ,  0. ,  0. , -1. ,  0.5,  0. ],\n",
       "       [ 0.5,  0. ,  0. ,  0. ,  0. ,  0. ,  0. ,  0. ,  0. , -1. ,  0.5],\n",
       "       [ 0.5,  0. ,  0. ,  0. ,  0. ,  0. ,  0. ,  0. ,  0. ,  0. ,  0. ]])"
      ]
     },
     "execution_count": 52,
     "metadata": {},
     "output_type": "execute_result"
    }
   ],
   "source": [
    "Q"
   ]
  },
  {
   "cell_type": "code",
   "execution_count": 47,
   "id": "9ea27f05-0af6-41ac-a12a-9350ee830158",
   "metadata": {},
   "outputs": [],
   "source": [
    "#Starting dist\n",
    "p0 = [1, 0, 0, 0, 0, 0, 0, 0, 0, 0, 0]\n",
    "\n",
    "\n",
    "time_arr = []\n",
    "n_trials = 1000\n",
    "y_arr = []\n",
    "for i in range(n_trials):\n",
    "    #Time limit\n",
    "    T = 10000000\n",
    "\n",
    "    #Simuate from the uniform U~Unif(0,1)\n",
    "    U = np.random.uniform()\n",
    "\n",
    "    #Set the initial value y0 = i where i is the smallest in s.t. the sum of the previous y\n",
    "    y = 0\n",
    "\n",
    "    k=0\n",
    "    t=0\n",
    "    x_arr = [y]\n",
    "\n",
    "    while t<T:\n",
    "        k += 1\n",
    "        Uk = np.random.uniform()\n",
    "        t = t + np.log(Uk)/Q[y,y]\n",
    "        v = np.random.uniform()\n",
    "        if v <= 0.5: #Drop down\n",
    "            y = 0\n",
    "        else:\n",
    "            y += 1\n",
    "        \n",
    "        # y_arr =  np.append(y_arr, y)\n",
    "\n",
    "        if y == 10: #At the top\n",
    "            time_arr = np.append(time_arr, t)\n",
    "            break\n"
   ]
  },
  {
   "cell_type": "code",
   "execution_count": 48,
   "id": "866cd030-3552-4f0a-a153-0fcf44ab2d62",
   "metadata": {},
   "outputs": [
    {
     "data": {
      "text/plain": [
       "(array([572., 248., 117.,  35.,  11.,   7.,   2.,   5.,   2.,   1.]),\n",
       " array([1.05990524e+01, 2.66678355e+03, 5.32296805e+03, 7.97915255e+03,\n",
       "        1.06353370e+04, 1.32915215e+04, 1.59477060e+04, 1.86038905e+04,\n",
       "        2.12600750e+04, 2.39162595e+04, 2.65724440e+04]),\n",
       " <BarContainer object of 10 artists>)"
      ]
     },
     "execution_count": 54,
     "metadata": {},
     "output_type": "execute_result"
    },
    {
     "data": {
      "image/png": "[encoded data removed]",
      "text/plain": [
       "<Figure size 640x480 with 1 Axes>"
      ]
     },
     "metadata": {},
     "output_type": "display_data"
    }
   ],
   "source": [
    "plt.hist(time_arr)"
   ]
  },
  {
   "cell_type": "code",
   "execution_count": 49,
   "id": "3e35e389-d73f-4968-b442-164783578a4a",
   "metadata": {},
   "outputs": [
    {
     "data": {
      "text/plain": [
       "3128.9315628488202"
      ]
     },
     "execution_count": 55,
     "metadata": {},
     "output_type": "execute_result"
    }
   ],
   "source": [
    "np.mean(time_arr)"
   ]
  },
  {
   "cell_type": "code",
   "execution_count": 50,
   "id": "266d7487-e460-454b-96eb-3d42d22e481d",
   "metadata": {},
   "outputs": [
    {
     "data": {
      "text/plain": [
       "1477.3867580244817"
      ]
     },
     "execution_count": 50,
     "metadata": {},
     "output_type": "execute_result"
    }
   ],
   "source": [
    "np.std(time_arr)"
   ]
  }
 ],
 "metadata": {
  "kernelspec": {
   "display_name": "Python 3 (ipykernel)",
   "language": "python",
   "name": "python3"
  },
  "language_info": {
   "codemirror_mode": {
    "name": "ipython",
    "version": 3
   },
   "file_extension": ".py",
   "mimetype": "text/x-python",
   "name": "python",
   "nbconvert_exporter": "python",
   "pygments_lexer": "ipython3",
   "version": "3.9.13"
  }
 },
 "nbformat": 4,
 "nbformat_minor": 5
}
