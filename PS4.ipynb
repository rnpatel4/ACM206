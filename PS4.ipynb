{
 "cells": [
  {
   "cell_type": "markdown",
   "id": "e36ac21f-3bc3-49c3-8e83-f8f038f56ac7",
   "metadata": {},
   "source": [
    "# Problem Set 4"
   ]
  },
  {
   "cell_type": "code",
   "execution_count": 5,
   "id": "a5c056a0-c6db-49a6-a7de-daf31e054d61",
   "metadata": {},
   "outputs": [],
   "source": [
    "import numpy as np\n",
    "import matplotlib.pyplot as plt\n",
    "import statsmodels.api as sm\n",
    "import random"
   ]
  },
  {
   "cell_type": "markdown",
   "id": "8ffa656c-08a4-47f3-b331-1f7b4ca29825",
   "metadata": {
    "tags": []
   },
   "source": [
    "##  Choose-your-own-adventure (Lemmings revisited)"
   ]
  },
  {
   "cell_type": "markdown",
   "id": "e36fcbbf-2bac-4edc-8fff-b41447a5e819",
   "metadata": {},
   "source": [
    "What is the probability that a lemming, starting at rung 1 of a 50 rung ladder, will make it to the\n",
    "top before falling to the ground? Recall that a lemming has a half chance of climbing to a higher\n",
    "run and a half chance of falling to the ground (rung 0), and these probabilities remain the same\n",
    "for all the rungs. Write down a clever Monte Carlo scheme to find the answer, and potentially\n",
    "implement it."
   ]
  },
  {
   "cell_type": "code",
   "execution_count": 41,
   "id": "219af298-79ea-49a8-8fd7-130a8a12567a",
   "metadata": {
    "tags": []
   },
   "outputs": [],
   "source": [
    "# Rare event sampling\n",
    "#Initiate M realizations according to the initial distribution\n",
    "M = 10000\n",
    "level = np.ones(M)\n",
    "#Step it forward\n",
    "probs = np.random.uniform(size=M)\n",
    "w_arr = np.ones(M)/M\n",
    "\n",
    "for i in range(M):\n",
    "    if probs[i] > 0.5:\n",
    "        level[i] += 1\n",
    "    else:\n",
    "        level[i] = 0\n",
    "\n",
    "#Now calculate the cloning factor for each realization i as in Wouters 2023\n",
    "w_arr = [ w_arr[i]/np.sum(level) for i in range(M)]\n"
   ]
  },
  {
   "cell_type": "code",
   "execution_count": null,
   "id": "efcb1f2f-a8a0-49cd-b970-f57a88532e06",
   "metadata": {},
   "outputs": [],
   "source": []
  },
  {
   "cell_type": "code",
   "execution_count": null,
   "id": "529b7cd2-2c78-43c9-ab5c-2e943c056244",
   "metadata": {},
   "outputs": [],
   "source": []
  },
  {
   "cell_type": "code",
   "execution_count": null,
   "id": "75228b95-faa9-4e5e-a02c-a14a2d29529b",
   "metadata": {},
   "outputs": [],
   "source": []
  },
  {
   "cell_type": "markdown",
   "id": "eab64799-7938-46d5-85fc-59d837de2453",
   "metadata": {},
   "source": [
    "The \"easy\" way to show this"
   ]
  },
  {
   "cell_type": "code",
   "execution_count": 35,
   "id": "531c6f4a-8837-42c3-b803-c3a976e581e0",
   "metadata": {},
   "outputs": [],
   "source": [
    "n = 10000000\n",
    "p = 0.5\n",
    "w = 1/n\n",
    "\n",
    "for i in range(49):\n",
    "    frac = np.random.binomial(n, p)\n",
    "    # print(frac)\n",
    "    w = w*frac/n"
   ]
  },
  {
   "cell_type": "code",
   "execution_count": 36,
   "id": "5c2d2987-bc13-4633-8759-42171fcaccca",
   "metadata": {},
   "outputs": [
    {
     "data": {
      "text/plain": [
       "1.7783997193623317e-15"
      ]
     },
     "execution_count": 36,
     "metadata": {},
     "output_type": "execute_result"
    }
   ],
   "source": [
    "w*n "
   ]
  },
  {
   "cell_type": "code",
   "execution_count": 33,
   "id": "4374c10d-3784-4859-a2d1-47402d1aaab1",
   "metadata": {},
   "outputs": [
    {
     "data": {
      "text/plain": [
       "56340304.71024775"
      ]
     },
     "execution_count": 33,
     "metadata": {},
     "output_type": "execute_result"
    }
   ],
   "source": []
  }
 ],
 "metadata": {
  "kernelspec": {
   "display_name": "Python 3 (ipykernel)",
   "language": "python",
   "name": "python3"
  },
  "language_info": {
   "codemirror_mode": {
    "name": "ipython",
    "version": 3
   },
   "file_extension": ".py",
   "mimetype": "text/x-python",
   "name": "python",
   "nbconvert_exporter": "python",
   "pygments_lexer": "ipython3",
   "version": "3.9.13"
  }
 },
 "nbformat": 4,
 "nbformat_minor": 5
}
